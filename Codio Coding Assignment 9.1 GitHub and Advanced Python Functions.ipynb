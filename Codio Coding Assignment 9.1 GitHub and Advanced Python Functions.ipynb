{
 "cells": [
  {
   "cell_type": "code",
   "execution_count": 1,
   "id": "7f9f9e7e-2651-42ea-a7ec-a3994a27cc8e",
   "metadata": {},
   "outputs": [
    {
     "name": "stdout",
     "output_type": "stream",
     "text": [
      "<class 'type'>\n",
      "__main__\n"
     ]
    }
   ],
   "source": [
    "#Question 1\n",
    "#5 points\n",
    "#Write a Python class, Student, with no attributes assigned to it.\n",
    "#Assign the type of Student to ans1a. Assign the __module__ attribute of the Student class to ans1b.\n",
    "#HINT: Because Student does not have any attributes, you can end its definition with the keyword pass.\n",
    "\n",
    "class Student:\n",
    "    pass\n",
    "\n",
    "ans1a = type(Student)\n",
    "ans1b = Student.__module__\n",
    "print(ans1a)\n",
    "print(ans1b)"
   ]
  },
  {
   "cell_type": "code",
   "execution_count": 3,
   "id": "350d95f4-ccd3-4a40-93f5-e3bc6be98a6c",
   "metadata": {},
   "outputs": [
    {
     "data": {
      "text/plain": [
       "'John Smith'"
      ]
     },
     "execution_count": 3,
     "metadata": {},
     "output_type": "execute_result"
    }
   ],
   "source": [
    "#Question 2\n",
    "#5 points\n",
    "#Modify the Python class, Student so that it has two attributes, student_name and grade, with values John Smith and 86, respectively.\n",
    "#Assign the member student_name of the class Student to ans2a.\n",
    "\n",
    "class Student:\n",
    "    student_name = \"John Smith\"\n",
    "    grade = 86\n",
    "\n",
    "ans2a = Student.student_name\n",
    "ans2a"
   ]
  },
  {
   "cell_type": "code",
   "execution_count": 17,
   "id": "b2010de0-ead5-47f3-ad00-bd5a4b8d1dab",
   "metadata": {},
   "outputs": [
    {
     "name": "stdout",
     "output_type": "stream",
     "text": [
      "Angela Brooks\n",
      "87\n"
     ]
    }
   ],
   "source": [
    "#Question 3\n",
    "#7 points\n",
    "#The Python function setattr can be used to modify the attributes of a class. It basic syntax reads as follow:\n",
    "#setattr = (class_name, attribute_name, updated_value)\n",
    "#Use the function setattr to modify the Python class, Student so that student_name and grade are equal to Angela Brooks and 87, respectively. \n",
    "#Assign these operations to ans3a and ans3b, respectively.\n",
    "\n",
    "class Student:\n",
    "    student_name = \"John Smith\"\n",
    "    grade = 86\n",
    "    \n",
    "ans3a = setattr(Student, \"student_name\", 'Angela Brooks')\n",
    "ans3b = setattr(Student, \"grade\", 87)\n",
    "print(Student.student_name)\n",
    "print(Student.grade)"
   ]
  },
  {
   "cell_type": "code",
   "execution_count": 31,
   "id": "b93920b3-1787-4a06-9a01-fdf82af1dcf7",
   "metadata": {},
   "outputs": [
    {
     "data": {
      "text/plain": [
       "<__main__.Student at 0x1b04a5c1580>"
      ]
     },
     "execution_count": 31,
     "metadata": {},
     "output_type": "execute_result"
    }
   ],
   "source": [
    "#Question 4\n",
    "#6 points\n",
    "#Use a constructor to define a Python class, Student, with attributes student_name, student_id, grade, and email.\n",
    "#Construct a student, ans4, with name equal to Francis Green, student ID equal to 475895, grade equal to 56, and email \n",
    "#address equal to francisgreen@mit.edu.\n",
    "\n",
    "class Student:\n",
    "    def __init__(self, student_name, student_id, grade, email):\n",
    "        self.student_name = student_name\n",
    "        self.student_id = student_id\n",
    "        self.grade = grade\n",
    "        self.email = email\n",
    "\n",
    "ans4 = Student('Francis Green', 475895, 56, 'francisgreen@mit.edu')\n",
    "ans4"
   ]
  },
  {
   "cell_type": "code",
   "execution_count": 33,
   "id": "372dcbe1-4c1e-41cc-bda0-431beef85ccc",
   "metadata": {},
   "outputs": [
    {
     "name": "stdout",
     "output_type": "stream",
     "text": [
      "67.2\n"
     ]
    }
   ],
   "source": [
    "#Question 5\n",
    "#7 points\n",
    "#Add a function, curved_average, to the Student class defined above that takes the value stored in grade and multiplies it by 1.2. This function should return a value updated_grade.\n",
    "#Compute the updated average of the student ans4 computed in the previous questions and assign the result to ans5.\n",
    "\n",
    "class Student:\n",
    "    def __init__(self, student_name, student_id, grade, email):\n",
    "        self.student_name = student_name\n",
    "        self.student_id = student_id\n",
    "        self.grade = grade\n",
    "        self.email = email\n",
    "\n",
    "    def curved_average(self):\n",
    "        updated_grade = self.grade * 1.2\n",
    "        return updated_grade\n",
    "\n",
    "ans4 = Student('Francis Green', 475895, 56, 'francisgreen@mit.edu')\n",
    "ans5 = ans4.curved_average()\n",
    "print(ans5)"
   ]
  },
  {
   "cell_type": "code",
   "execution_count": 35,
   "id": "05310737-8e53-48bf-b418-867280b325d6",
   "metadata": {},
   "outputs": [
    {
     "name": "stdout",
     "output_type": "stream",
     "text": [
      "25\n",
      "22\n"
     ]
    }
   ],
   "source": [
    "#Question 6\n",
    "#7 points\n",
    "#Define a function, my_sum, that computes the sum of a variable number of elements.\n",
    "#Assign the result of the sum of the elements 1,3,5,6, and 10 to ans6a. Assign the result of the sum of the elements 10,4,6, and 2 to ans6b.\n",
    "\n",
    "def my_sum(*args):\n",
    "    result = 0\n",
    "    for x in args:\n",
    "        result += x\n",
    "    return result\n",
    "\n",
    "ans6a = my_sum(1, 3, 5, 6, 10)\n",
    "ans6b = my_sum(10, 4, 6, 2)\n",
    "print(ans6a)\n",
    "print(ans6b)"
   ]
  },
  {
   "cell_type": "code",
   "execution_count": 49,
   "id": "85141ffc-b31a-4602-a2a1-ee5c62db6843",
   "metadata": {},
   "outputs": [
    {
     "name": "stdout",
     "output_type": "stream",
     "text": [
      "79.25\n",
      "80.25\n"
     ]
    }
   ],
   "source": [
    "#Question 7\n",
    "#8 points\n",
    "#Define a function, my_average, that computes the average of a variable number of elements.\n",
    "#Assign the result of the sum of the elements 78,82,91,66 to ans7a. Assign the result of the sum of the elements 56, 89,76, and 100 to ans6b.\n",
    "\n",
    "def my_average(*args):\n",
    "    total = sum(args)\n",
    "    count = len(args)\n",
    "    if count == 0:\n",
    "        return 0\n",
    "    return total/count\n",
    "\n",
    "ans7a = my_average(78, 82, 91, 66)\n",
    "ans7b = my_average(56, 89, 76, 100)\n",
    "print(ans7a)\n",
    "print(ans7b)"
   ]
  },
  {
   "cell_type": "code",
   "execution_count": 95,
   "id": "1cd4c5ee-489b-45d3-b38b-4a54c3773396",
   "metadata": {},
   "outputs": [
    {
     "name": "stdout",
     "output_type": "stream",
     "text": [
      "Profession is Data Scientist\n",
      "Phone_Number is 4659874982\n"
     ]
    }
   ],
   "source": [
    "#Question 8\n",
    "#7 points\n",
    "#Suppose an invidual, say person1, has Name equal to Rosie, Age equal to 33, and Profession equal to Data Scientist.\n",
    "#Next, suppose that another person, say person2*, has Name equal to Kyle, Age equal to 28, and Profession equal to Data Engineer. and phone number equal to 4659874982.\n",
    "#Finally, define a function, print_last_info(), that unpacks the given entries and returns the string in the format:\n",
    "#<key_n> is <value_n>.\n",
    "#Note that in the pseudocode above, n represents the index for the last elements of the arguments passed to the function.\n",
    "#Call the function with person1, and person2 and assign the results to ans8a and ans8b, respectively.\n",
    "\n",
    "#Minha resposta\n",
    "\n",
    "#person1 = {\"Name\": 'Rosie', \"Age\": 33, \"Profession\": 'Data Scientist'}\n",
    "#person2 = {\"Name\": 'Kyle', \"Age\": 28, \"Profession\": 'Data Scientist', \"Phone Number\": 4659874982}\n",
    "\n",
    "#def print_last_info(**kwargs):\n",
    "#    last_key = list(kwargs.keys())[-1]\n",
    "#    last_value = kwargs[last_key]\n",
    "#    return f\"{last_key} is {last_value}\"\n",
    "\n",
    "#ans8a = print_last_info(**person1)\n",
    "#ans8b = print_last_info(**person2)\n",
    "#print(ans8a)\n",
    "#print(ans8b)\n",
    "\n",
    "#----------------------------------\n",
    "#Gabarito\n",
    "\n",
    "def print_last_info(**data):\n",
    "    for k, v in data.items():\n",
    "        string = (\"{} is {}\".format(k, v))\n",
    "    return string\n",
    "\n",
    "ans8a = print_last_info(Name = 'Rosie', Age = 33, Profession = 'Data Scientist')\n",
    "ans8b = print_last_info(Name = 'Kyle', Age = 28, Profession = 'Data Scientist', Phone_Number = 4659874982)\n",
    "print(ans8a)\n",
    "print(ans8b)\n"
   ]
  },
  {
   "cell_type": "code",
   "execution_count": 97,
   "id": "ad492a21-a3cf-445d-8a41-3ccc693bc8ae",
   "metadata": {},
   "outputs": [
    {
     "name": "stdout",
     "output_type": "stream",
     "text": [
      "Title: Inception\n",
      "Title: Inception\n"
     ]
    }
   ],
   "source": [
    "#Question 9\n",
    "#7 points\n",
    "#Define a dictionary, movie, with keys Title, Director, and Year and corresponding values Inception, Nolan, and 2010.\n",
    "#Define a function, print_movie(), that unpacks the entries of a provided dictionary and returns the string in the format:\n",
    "#<title_name_key>: <title_name_value>\n",
    "#Call the function with the dictionary movie and assign the result to ans9a.\n",
    "#What happens if you also pass the argument Music = \"Zimmer\" after movie? Assign the resulting string to ans9b\n",
    "\n",
    "#Minha resolução\n",
    "\n",
    "#movie = {\"Title\": 'Inception', \"Director\": 'Nola', \"Year\": 2010}\n",
    "\n",
    "#def print_movie(**kwargs):\n",
    "#    result = []\n",
    "#    for k, v in kwargs.items():\n",
    "#        result.append(f\"{k}: {v}\")\n",
    "#    return \"\\n\".join(result)\n",
    "\n",
    "#ans9a = print_movie(**movie)\n",
    "#ans9b = print_movie(**movie, Music = \"Zimmer\")\n",
    "#print(ans9a)\n",
    "#print(ans9b)\n",
    "\n",
    "#-----------------------------------\n",
    "#Gabarito\n",
    "\n",
    "movie = {\"Title\": 'Inception', \"Director\": 'Nola', \"Year\": 2010}\n",
    "def print_movie(**kwargs):\n",
    "    for k, v in kwargs.items():\n",
    "        string = f\"{k}: {v}\"\n",
    "        return string\n",
    "\n",
    "ans9a = print_movie(**movie)\n",
    "ans9b = print_movie(**movie, Music = \"Zimmer\")\n",
    "print(ans9a)\n",
    "print(ans9b)"
   ]
  },
  {
   "cell_type": "code",
   "execution_count": 69,
   "id": "bcfb6f4b-f6f2-45f7-84e5-8e5598b0af1d",
   "metadata": {},
   "outputs": [
    {
     "name": "stdout",
     "output_type": "stream",
     "text": [
      "8\n"
     ]
    }
   ],
   "source": [
    "#Question 10\n",
    "#6 points\n",
    "#Define a function, plus_one, that takes an integer as input. Within this function, define another *function, add_one that takes the same integer as input. This function should add 1 to the integer and return the result.\n",
    "#Finally, the function, plus_one should call the *function, add_one, and return the result.\n",
    "#Test your functions with the number 7 and assign the result to ans10.\n",
    "\n",
    "def plus_one(x):\n",
    "    def add_one(num):\n",
    "        return num + 1\n",
    "    return add_one(x)\n",
    "\n",
    "ans10 = plus_one(7)\n",
    "print(ans10)"
   ]
  },
  {
   "cell_type": "code",
   "execution_count": 83,
   "id": "805c5227-5874-44a0-95ef-e49d22833d09",
   "metadata": {},
   "outputs": [
    {
     "name": "stdout",
     "output_type": "stream",
     "text": [
      "<function uppercase_decorator.<locals>.wrapper at 0x000001B04DFDA480>\n"
     ]
    }
   ],
   "source": [
    "#Question 11\n",
    "#7 points\n",
    "#Define a function, uppercase_decorator, that takes a function as an input. This function will contain a wrapper function, wrapper, that will convert a string to uppercase.\n",
    "#Define another function, say_hello(), that takes no argument and returns the string hello there!. Pass the function, say_hello() to uppercase_decorator and assign the result to ans11.\n",
    "\n",
    "#Minha resposta\n",
    "#def uppercase_decorator(func):\n",
    "#    def wrapper(string):\n",
    "#        return string.upper()\n",
    "\n",
    "#def say_hello():\n",
    "#    return 'hello there!'\n",
    "\n",
    "#ans11 = uppercase_decorator(say_hello())\n",
    "#print(ans11)\n",
    "\n",
    "#----------------------------\n",
    "#Gabarito\n",
    "def uppercase_decorator(function):\n",
    "    def wrapper():\n",
    "        func = function()\n",
    "        make_uppercase = func.upper()\n",
    "        return make_uppercase\n",
    "    return wrapper\n",
    "\n",
    "@uppercase_decorator\n",
    "def say_hello():\n",
    "    return 'hello there!'\n",
    "\n",
    "ans11 = say_hello\n",
    "print(ans11)"
   ]
  },
  {
   "cell_type": "code",
   "execution_count": 75,
   "id": "fa4d5291-0171-4d7a-ba92-b494ca0678e9",
   "metadata": {},
   "outputs": [
    {
     "name": "stdout",
     "output_type": "stream",
     "text": [
      "Cities I love are Paris and New York\n"
     ]
    }
   ],
   "source": [
    "#Question 12\n",
    "#9 points\n",
    "#Define a function, decorator_with_arguments, that takes a function as an input. This function will contain a wrapper function, wrapper_accepting_arguments that will take two strings as input and will print the string My arguments are: <arg1>, <arg2>.\n",
    "#This last step can be accomplished via the command:\n",
    "\n",
    "#print(\"My arguments are: {0}, {1}\".format(arg1,arg2))\n",
    "\n",
    "#The function, decorator_with_arguments should return the function, wrapper_accepting_arguments.\n",
    "#Define another function, cities, that takes two arguments and print the string Cities I love are: <arg1>, <arg2>.\n",
    "#This last step can be accomplished via the command:\n",
    "\n",
    "# print(\"Cities I love are {0} and {1}\".format(city_one, city_two))\n",
    "\n",
    "#Test your functions with the cities Paris and New York and assign the result to ans12.\n",
    "\n",
    "def decorator_with_arguments(func):\n",
    "    def wrapper_accepting_arguments(arg1, arg2):\n",
    "        return print(\"My arguments are: {0}, {1}\".format(arg1, arg2))\n",
    "    return wrapper_accepting_arguments\n",
    "\n",
    "def cities(city_one, city_two):\n",
    "    return print(\"Cities I love are {0} and {1}\".format(city_one, city_two))\n",
    "\n",
    "ans12 = cities('Paris', 'New York')"
   ]
  },
  {
   "cell_type": "code",
   "execution_count": 77,
   "id": "b364f6dd-a7eb-4482-acba-17a336946b8b",
   "metadata": {},
   "outputs": [
    {
     "ename": "TypeError",
     "evalue": "tuple expected at most 1 argument, got 3",
     "output_type": "error",
     "traceback": [
      "\u001b[1;31m---------------------------------------------------------------------------\u001b[0m",
      "\u001b[1;31mTypeError\u001b[0m                                 Traceback (most recent call last)",
      "Cell \u001b[1;32mIn[77], line 20\u001b[0m\n\u001b[0;32m     17\u001b[0m \u001b[38;5;28;01mdef\u001b[39;00m \u001b[38;5;21mfunction_with_arguments\u001b[39m(x, y, z):\n\u001b[0;32m     18\u001b[0m     \u001b[38;5;28;01mreturn\u001b[39;00m \u001b[38;5;28mtuple\u001b[39m(x, y, z)\n\u001b[1;32m---> 20\u001b[0m ans13 \u001b[38;5;241m=\u001b[39m function_with_arguments(\u001b[38;5;241m1\u001b[39m, \u001b[38;5;241m2\u001b[39m, \u001b[38;5;241m3\u001b[39m)\n",
      "Cell \u001b[1;32mIn[77], line 18\u001b[0m, in \u001b[0;36mfunction_with_arguments\u001b[1;34m(x, y, z)\u001b[0m\n\u001b[0;32m     17\u001b[0m \u001b[38;5;28;01mdef\u001b[39;00m \u001b[38;5;21mfunction_with_arguments\u001b[39m(x, y, z):\n\u001b[1;32m---> 18\u001b[0m     \u001b[38;5;28;01mreturn\u001b[39;00m \u001b[38;5;28mtuple\u001b[39m(x, y, z)\n",
      "\u001b[1;31mTypeError\u001b[0m: tuple expected at most 1 argument, got 3"
     ]
    }
   ],
   "source": [
    "#Question 13\n",
    "#9 points\n",
    "#Define a function, decorator_passing_arbitrary_arguments, that takes a function as an input. This function will contain a wrapper function, wrapper_accepting_arbitrary_arguments that will take a variable number of arguments as input and will print the string The positional arguments are (<arg1, arg2, arg3...>).\n",
    "#This last step can be accomplished via the command:\n",
    "\n",
    "#print('The positional arguments are', args)\n",
    "\n",
    "#The function, decorator_passing_arbitrary_arguments should return the function, wrapper_accepting_arbitrary_arguments.\n",
    "#Define another function, function_with_arguments, that takes three arguments and returns them as a tuple.\n",
    "#Test your functions with the arguments 1, 2 and 3 and assign the result to ans13.\n",
    "\n",
    "def decorator_passing_arbitrary_arguments(func):\n",
    "    def wrapper_accepting_arbitrary_arguments(*args):\n",
    "        return print('The positional arguments are', *args)\n",
    "    return wrapper_accepting_arbitrary_arguments\n",
    "\n",
    "def function_with_arguments(x, y, z):\n",
    "    return tuple(x, y, z)\n",
    "\n",
    "ans13 = function_with_arguments(1, 2, 3)"
   ]
  },
  {
   "cell_type": "code",
   "execution_count": null,
   "id": "f10cc9cd-2a0a-4483-8852-d6034625e089",
   "metadata": {},
   "outputs": [],
   "source": []
  }
 ],
 "metadata": {
  "kernelspec": {
   "display_name": "Python 3 (ipykernel)",
   "language": "python",
   "name": "python3"
  },
  "language_info": {
   "codemirror_mode": {
    "name": "ipython",
    "version": 3
   },
   "file_extension": ".py",
   "mimetype": "text/x-python",
   "name": "python",
   "nbconvert_exporter": "python",
   "pygments_lexer": "ipython3",
   "version": "3.12.4"
  }
 },
 "nbformat": 4,
 "nbformat_minor": 5
}
